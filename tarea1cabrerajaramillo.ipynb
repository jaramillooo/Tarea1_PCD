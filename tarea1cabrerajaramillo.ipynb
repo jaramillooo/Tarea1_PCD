{
 "cells": [
  {
   "cell_type": "markdown",
   "id": "58598277",
   "metadata": {},
   "source": [
    "### T01 Axel Cabrera Jaramillo \n",
    "#### Proyecto de Ciencia de datos\n",
    "\n",
    "**Referencias** \n",
    "\n",
    "* [medium](https://medium.com/@selfouly/mlops-done-right-47cec1dbfc8d)\n",
    "\n",
    "* [odsc.medium](https://odsc.medium.com/what-are-mlops-and-why-does-it-matter-8cff060d4067)\n",
    "    \n",
    "* [towardsdatascience](https://towardsdatascience.com/a-gentle-introduction-to-mlops-7d64a3e890ff)\n",
    "    \n",
    "* [valohai](https://valohai.com/blog/why-mlops-is-vital-to-your-development-team/)\n"
   ]
  },
  {
   "cell_type": "markdown",
   "id": "6ac1c618",
   "metadata": {},
   "source": [
    "# Importancia del despliegue en producción de proyectos de ML"
   ]
  },
  {
   "cell_type": "markdown",
   "id": "1ff103b4",
   "metadata": {},
   "source": [
    "**commit changes: Los pasos de commit, primero subi el readme directamente al crear el repositorio. Posteriormente intenté crear el ipynb desde git pero no se abrió correctamente por lo cual lo subí desde local. Se creo el branch feature-1 y update al readme.** Una de las principales a las que ayuda un correcto MLops, es el control de versiones ya sea de la información y de los modelos, porque evita el trabajar con datos que están desactualizados al igual que evitaría el entrenamiento con un modelo su deploy fue hace unos meses y ya que se esté trabajando con uno más actualizado.\n",
    "\n",
    "Lo que se busca es construir un ciclo para una retroalimentación rápida y detectar errores en pasos del proyecto, por ejemplo se hace un entrenamiento con un modelo que entrena datos mal, por lo cual si se lleva un control de proceso puedes revisar los datos que tuvo de entrada desde ver la versión, para notar si el problema fue en el modelado o la captura de datos al realizar la predicción del modelo pasado.\n",
    "\n",
    "Facilidad de benchmark en versiones en cada proceso para controlar su desarollo, optimización y mejora del modelo.\n",
    "\n",
    "Puntos importantes que menciona esta página [referencia](https://towardsdatascience.com/a-gentle-introduction-to-mlops-7d64a3e890ff):\n",
    "\n",
    "**\"Los modelos de ML dependen de una gran cantidad de datos, difíciles de seguir para una sola persona.\n",
    "Es difícil hacer un seguimiento de los parámetros que ajustamos en los modelos de ML. Pequeños cambios pueden llevar a diferencias enormes en los resultados.\n",
    "Tenemos que hacer un seguimiento de las características con las que trabaja el modelo, la ingeniería de características es una tarea aparte que contribuye en gran medida a la precisión del modelo.\n",
    "Supervisar un modelo de ML no es como supervisar un software desplegado o una aplicación web.\n",
    "Depurar un modelo de ML es un arte extremadamente complicado.\n",
    "Los modelos dependen de datos del mundo real para hacer predicciones, dado que los datos del mundo real cambian, el modelo también debe hacerlo. Esto significa que tenemos que hacer un seguimiento de los nuevos cambios en los datos y asegurarnos de que el modelo aprenda en consecuencia.\"**\n",
    "\n",
    "\n"
   ]
  },
  {
   "cell_type": "markdown",
   "id": "df90c06a",
   "metadata": {},
   "source": [
    "![img](https://miro.medium.com/v2/resize:fit:1060/format:webp/1*UaVl9RVzdWSyiqSXVHxtlw.png)"
   ]
  },
  {
   "cell_type": "code",
   "execution_count": null,
   "id": "84d1c87e",
   "metadata": {},
   "outputs": [],
   "source": []
  }
 ],
 "metadata": {
  "kernelspec": {
   "display_name": "Python 3 (ipykernel)",
   "language": "python",
   "name": "python3"
  },
  "language_info": {
   "codemirror_mode": {
    "name": "ipython",
    "version": 3
   },
   "file_extension": ".py",
   "mimetype": "text/x-python",
   "name": "python",
   "nbconvert_exporter": "python",
   "pygments_lexer": "ipython3",
   "version": "3.9.13"
  }
 },
 "nbformat": 4,
 "nbformat_minor": 5
}
